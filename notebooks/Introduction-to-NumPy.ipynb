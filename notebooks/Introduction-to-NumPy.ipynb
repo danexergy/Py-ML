{
 "cells": [
  {
   "cell_type": "code",
   "execution_count": 1,
   "id": "d1c30ee9",
   "metadata": {},
   "outputs": [],
   "source": [
    "import numpy as np"
   ]
  },
  {
   "cell_type": "markdown",
   "id": "2bb2f210",
   "metadata": {},
   "source": [
    "## DataTypes and Attributes"
   ]
  },
  {
   "cell_type": "code",
   "execution_count": 2,
   "id": "9f3b307e",
   "metadata": {},
   "outputs": [],
   "source": [
    "# actually numpy only have one datatype: ndarray\n",
    "# n-dimensional-array\n",
    "a1 = np.array([1, 2, 3])\n",
    "\n",
    "a2 = np.array([[1, 2.0, 3.3],\n",
    "               [4, 5, 6.5]])\n",
    "\n",
    "a3 = np.array([[[1, 2, 3],\n",
    "                [4, 5, 6],\n",
    "                [7, 8, 9]],\n",
    "               [[11, 12, 13],\n",
    "                [14, 15, 16],\n",
    "                [17, 18, 19]]])"
   ]
  },
  {
   "cell_type": "code",
   "execution_count": 3,
   "id": "cbd7cf69",
   "metadata": {},
   "outputs": [
    {
     "data": {
      "text/plain": [
       "array([1, 2, 3])"
      ]
     },
     "execution_count": 3,
     "metadata": {},
     "output_type": "execute_result"
    }
   ],
   "source": [
    "a1"
   ]
  },
  {
   "cell_type": "code",
   "execution_count": 4,
   "id": "5a7441bf",
   "metadata": {},
   "outputs": [
    {
     "data": {
      "text/plain": [
       "numpy.ndarray"
      ]
     },
     "execution_count": 4,
     "metadata": {},
     "output_type": "execute_result"
    }
   ],
   "source": [
    "type(a1)"
   ]
  },
  {
   "cell_type": "code",
   "execution_count": 5,
   "id": "9c23477f",
   "metadata": {},
   "outputs": [
    {
     "data": {
      "text/plain": [
       "array([[1. , 2. , 3.3],\n",
       "       [4. , 5. , 6.5]])"
      ]
     },
     "execution_count": 5,
     "metadata": {},
     "output_type": "execute_result"
    }
   ],
   "source": [
    "a2"
   ]
  },
  {
   "cell_type": "code",
   "execution_count": 6,
   "id": "fae6e2a3",
   "metadata": {},
   "outputs": [
    {
     "data": {
      "text/plain": [
       "((3,), (2, 3), (2, 3, 3))"
      ]
     },
     "execution_count": 6,
     "metadata": {},
     "output_type": "execute_result"
    }
   ],
   "source": [
    "# forma (filas x columnas) de las matrices.\n",
    "# para el caso de vectores (1D), los toma por defecto como columnas, y extrañamente no muestra el 1 de 1columna\n",
    "a1.shape, a2.shape, a3.shape"
   ]
  },
  {
   "cell_type": "code",
   "execution_count": 7,
   "id": "2a06ec90",
   "metadata": {},
   "outputs": [
    {
     "data": {
      "text/plain": [
       "array([[[ 1,  2,  3],\n",
       "        [ 4,  5,  6],\n",
       "        [ 7,  8,  9]],\n",
       "\n",
       "       [[11, 12, 13],\n",
       "        [14, 15, 16],\n",
       "        [17, 18, 19]]])"
      ]
     },
     "execution_count": 7,
     "metadata": {},
     "output_type": "execute_result"
    }
   ],
   "source": [
    "a3"
   ]
  },
  {
   "cell_type": "code",
   "execution_count": 8,
   "id": "647c196e",
   "metadata": {},
   "outputs": [
    {
     "data": {
      "text/plain": [
       "(1, 2, 3)"
      ]
     },
     "execution_count": 8,
     "metadata": {},
     "output_type": "execute_result"
    }
   ],
   "source": [
    "# number of dimensions\n",
    "a1.ndim, a2.ndim, a3.ndim"
   ]
  },
  {
   "cell_type": "code",
   "execution_count": 9,
   "id": "2ac9c2d7",
   "metadata": {},
   "outputs": [
    {
     "data": {
      "text/plain": [
       "(dtype('int32'), dtype('float64'), dtype('int32'))"
      ]
     },
     "execution_count": 9,
     "metadata": {},
     "output_type": "execute_result"
    }
   ],
   "source": [
    "a1.dtype, a2.dtype, a3.dtype"
   ]
  },
  {
   "cell_type": "code",
   "execution_count": 10,
   "id": "e92c40f5",
   "metadata": {},
   "outputs": [
    {
     "data": {
      "text/plain": [
       "(3, 6, 18)"
      ]
     },
     "execution_count": 10,
     "metadata": {},
     "output_type": "execute_result"
    }
   ],
   "source": [
    "# how many elements we have in total\n",
    "a1.size, a2.size, a3.size"
   ]
  },
  {
   "cell_type": "markdown",
   "id": "357991c9",
   "metadata": {},
   "source": [
    "## Creating Arrays"
   ]
  },
  {
   "cell_type": "code",
   "execution_count": 11,
   "id": "ce2199d0",
   "metadata": {},
   "outputs": [],
   "source": [
    "# para mirar ayuda de una función, nos paramos en la mitad de los paréntensis del argumento de la función, y damos shift+tab\n",
    "ones = np.ones((2, 3))\n",
    "ones\n",
    "zeros = np.zeros((4,4))"
   ]
  },
  {
   "cell_type": "code",
   "execution_count": 12,
   "id": "4a475221",
   "metadata": {},
   "outputs": [
    {
     "data": {
      "text/plain": [
       "array([0, 2, 4, 6, 8])"
      ]
     },
     "execution_count": 12,
     "metadata": {},
     "output_type": "execute_result"
    }
   ],
   "source": [
    "# start, end (not including it), step\n",
    "range_array = np.arange(0, 10, 2)\n",
    "range_array"
   ]
  },
  {
   "cell_type": "code",
   "execution_count": 13,
   "id": "33390cd1",
   "metadata": {},
   "outputs": [
    {
     "data": {
      "text/plain": [
       "array([[2, 8, 0, 8, 9],\n",
       "       [3, 2, 6, 7, 7],\n",
       "       [3, 2, 8, 4, 8]])"
      ]
     },
     "execution_count": 13,
     "metadata": {},
     "output_type": "execute_result"
    }
   ],
   "source": [
    "random_array = np.random.randint(0, 10, size=(3, 5))\n",
    "random_array"
   ]
  },
  {
   "cell_type": "code",
   "execution_count": 14,
   "id": "0c0ce6ac",
   "metadata": {},
   "outputs": [
    {
     "data": {
      "text/plain": [
       "array([[0.6508193 , 0.527861  , 0.47684754],\n",
       "       [0.34645027, 0.52983694, 0.05482596],\n",
       "       [0.49975017, 0.23918572, 0.82836895],\n",
       "       [0.09092851, 0.8815865 , 0.43614283],\n",
       "       [0.46930508, 0.25795132, 0.53751736]])"
      ]
     },
     "execution_count": 14,
     "metadata": {},
     "output_type": "execute_result"
    }
   ],
   "source": [
    "random_array_float = np.random.random((5, 3))\n",
    "random_array_float"
   ]
  },
  {
   "cell_type": "code",
   "execution_count": 15,
   "id": "c1adf52c",
   "metadata": {},
   "outputs": [
    {
     "data": {
      "text/plain": [
       "array([[0.40535976, 0.5637782 , 0.49095639],\n",
       "       [0.94013746, 0.94322618, 0.86583617],\n",
       "       [0.23415918, 0.44573078, 0.762358  ],\n",
       "       [0.31163632, 0.35928079, 0.1412428 ],\n",
       "       [0.28510166, 0.04520873, 0.57930463]])"
      ]
     },
     "execution_count": 15,
     "metadata": {},
     "output_type": "execute_result"
    }
   ],
   "source": [
    "random_array_3 = np.random.rand(5, 3)\n",
    "random_array_3"
   ]
  },
  {
   "cell_type": "code",
   "execution_count": 16,
   "id": "79dc2acb",
   "metadata": {},
   "outputs": [
    {
     "data": {
      "text/plain": [
       "array([[0.60857571, 0.81013353, 0.36062635],\n",
       "       [0.51719637, 0.76476674, 0.90932499]])"
      ]
     },
     "execution_count": 16,
     "metadata": {},
     "output_type": "execute_result"
    }
   ],
   "source": [
    "# new API for random numbers:  \n",
    "# Generator uses bits provided by PCG64 which has better statistical properties than the legacy MT19937 used in RandomState\n",
    "new_random = np.random.default_rng()  # Create a default Generator.\n",
    "new_random.random(size=(2,3))  # Generate samples.\n",
    "\n",
    "# The old functions in the numpy.random namespace will continue to work, \n",
    "# but they are considered \"frozen\", with no ongoing development. \n",
    "# If you are writing new code, and you don't have to support pre-1.17 versions of numpy, \n",
    "# it is recommended that you use the new random API"
   ]
  },
  {
   "cell_type": "code",
   "execution_count": 17,
   "id": "febc3631",
   "metadata": {},
   "outputs": [
    {
     "data": {
      "text/plain": [
       "array([[1.5091013 , 1.87960622],\n",
       "       [1.66137114, 1.10844665]])"
      ]
     },
     "execution_count": 17,
     "metadata": {},
     "output_type": "execute_result"
    }
   ],
   "source": [
    "# The new Generator class does not have the rand() or random_sample() methods. \n",
    "# There is a uniform() method that allows you to specify the lower and upper bounds of the distribution.\n",
    "new_random.uniform(1, 2, size=(2,2))"
   ]
  },
  {
   "cell_type": "code",
   "execution_count": 18,
   "id": "43c24195",
   "metadata": {},
   "outputs": [
    {
     "data": {
      "text/plain": [
       "array([[0.294665  , 0.53058676, 0.19152079],\n",
       "       [0.06790036, 0.78698546, 0.65633352]])"
      ]
     },
     "execution_count": 18,
     "metadata": {},
     "output_type": "execute_result"
    }
   ],
   "source": [
    "# pseudo random => con seed\n",
    "# la idea es obtener siempre los mismos números (random) -por si compartimos el notebook con un colega o algo así-\n",
    "# reproducable random numbers\n",
    "np.random.seed(seed=17)\n",
    "seudoRandom = np.random.random((2, 3))\n",
    "seudoRandom"
   ]
  },
  {
   "cell_type": "markdown",
   "id": "e70cebcf",
   "metadata": {},
   "source": [
    "## Viewing arrays"
   ]
  },
  {
   "cell_type": "code",
   "execution_count": 19,
   "id": "fda6dcc4",
   "metadata": {},
   "outputs": [
    {
     "data": {
      "text/plain": [
       "array([1, 2, 3, 4])"
      ]
     },
     "execution_count": 19,
     "metadata": {},
     "output_type": "execute_result"
    }
   ],
   "source": [
    "# mostrar elementos sin repetirlos\n",
    "np.unique([1, 1, 2, 2, 3, 3, 4])"
   ]
  },
  {
   "cell_type": "code",
   "execution_count": 20,
   "id": "8644daa9",
   "metadata": {},
   "outputs": [
    {
     "data": {
      "text/plain": [
       "array([[1, 0, 0],\n",
       "       [2, 3, 4]])"
      ]
     },
     "execution_count": 20,
     "metadata": {},
     "output_type": "execute_result"
    }
   ],
   "source": [
    "# mostrar filas de una matriz sin repetir\n",
    "a = np.array([[1, 0, 0], [1, 0, 0], [2, 3, 4]])\n",
    "np.unique(a, axis=0)"
   ]
  },
  {
   "cell_type": "code",
   "execution_count": 21,
   "id": "b64ff4f0",
   "metadata": {},
   "outputs": [
    {
     "data": {
      "text/plain": [
       "array([[[ 1,  2,  3],\n",
       "        [ 4,  5,  6],\n",
       "        [ 7,  8,  9]],\n",
       "\n",
       "       [[11, 12, 13],\n",
       "        [14, 15, 16],\n",
       "        [17, 18, 19]]])"
      ]
     },
     "execution_count": 21,
     "metadata": {},
     "output_type": "execute_result"
    }
   ],
   "source": [
    "a3 # recordamos el array a3"
   ]
  },
  {
   "cell_type": "code",
   "execution_count": 22,
   "id": "af68131e",
   "metadata": {},
   "outputs": [
    {
     "data": {
      "text/plain": [
       "array([[1, 2, 3],\n",
       "       [4, 5, 6],\n",
       "       [7, 8, 9]])"
      ]
     },
     "execution_count": 22,
     "metadata": {},
     "output_type": "execute_result"
    }
   ],
   "source": [
    "a3[0]"
   ]
  },
  {
   "cell_type": "code",
   "execution_count": 23,
   "id": "1c44e727",
   "metadata": {},
   "outputs": [
    {
     "data": {
      "text/plain": [
       "array([[[1, 2],\n",
       "        [4, 5]]])"
      ]
     },
     "execution_count": 23,
     "metadata": {},
     "output_type": "execute_result"
    }
   ],
   "source": [
    "# hasta el primer elemento -sin incluirlo, o sea a3[0]- (de la primera dimensión), \n",
    "# hasta la segunda fila (de la segunda dimensión),\n",
    "# hasta la segunda columna (de la tercera dimensión)\n",
    "a3[:1,:2,:2]"
   ]
  },
  {
   "cell_type": "code",
   "execution_count": 24,
   "id": "332b09b3",
   "metadata": {},
   "outputs": [
    {
     "data": {
      "text/plain": [
       "array([[[ 1,  2],\n",
       "        [ 4,  5]],\n",
       "\n",
       "       [[11, 12],\n",
       "        [14, 15]]])"
      ]
     },
     "execution_count": 24,
     "metadata": {},
     "output_type": "execute_result"
    }
   ],
   "source": [
    "a3[:2,:2,:2]"
   ]
  },
  {
   "cell_type": "code",
   "execution_count": 25,
   "id": "a0ebbb72",
   "metadata": {},
   "outputs": [
    {
     "data": {
      "text/plain": [
       "array([[[[4, 7, 1, 1, 9],\n",
       "         [8, 2, 3, 6, 6],\n",
       "         [9, 9, 1, 5, 1],\n",
       "         [0, 5, 6, 6, 2]],\n",
       "\n",
       "        [[6, 9, 8, 3, 2],\n",
       "         [1, 9, 8, 3, 2],\n",
       "         [7, 8, 9, 2, 1],\n",
       "         [8, 1, 8, 0, 4]],\n",
       "\n",
       "        [[5, 4, 4, 3, 3],\n",
       "         [3, 7, 8, 5, 1],\n",
       "         [9, 4, 9, 7, 3],\n",
       "         [3, 1, 6, 1, 3]]],\n",
       "\n",
       "\n",
       "       [[[8, 3, 2, 8, 2],\n",
       "         [1, 0, 4, 8, 2],\n",
       "         [1, 4, 4, 3, 6],\n",
       "         [2, 8, 7, 5, 7]],\n",
       "\n",
       "        [[3, 3, 9, 8, 7],\n",
       "         [5, 8, 6, 4, 2],\n",
       "         [2, 1, 8, 2, 6],\n",
       "         [4, 9, 9, 5, 9]],\n",
       "\n",
       "        [[2, 0, 2, 9, 1],\n",
       "         [8, 1, 0, 5, 5],\n",
       "         [6, 6, 5, 7, 2],\n",
       "         [6, 8, 6, 0, 9]]]])"
      ]
     },
     "execution_count": 25,
     "metadata": {},
     "output_type": "execute_result"
    }
   ],
   "source": [
    "a4xx = np.random.randint(10, size=(2, 3, 4, 5))\n",
    "a4xx"
   ]
  },
  {
   "cell_type": "code",
   "execution_count": 26,
   "id": "ccdda962",
   "metadata": {},
   "outputs": [
    {
     "data": {
      "text/plain": [
       "array([8, 3, 2, 8, 2])"
      ]
     },
     "execution_count": 26,
     "metadata": {},
     "output_type": "execute_result"
    }
   ],
   "source": [
    "# ejercicio: mostrar solo la fila [8, 3, 2, 8, 2]\n",
    "a4xx[1,0,0,:5]"
   ]
  },
  {
   "cell_type": "markdown",
   "id": "ead12cf8",
   "metadata": {},
   "source": [
    "## Manipulating and Comparing arrays"
   ]
  },
  {
   "cell_type": "code",
   "execution_count": 27,
   "id": "86482774",
   "metadata": {},
   "outputs": [
    {
     "data": {
      "text/plain": [
       "array([[2., 3., 4.],\n",
       "       [2., 3., 4.]])"
      ]
     },
     "execution_count": 27,
     "metadata": {},
     "output_type": "execute_result"
    }
   ],
   "source": [
    "# suma de matrices:\n",
    "# del mismo tamaño y término a término\n",
    "a1 + ones"
   ]
  },
  {
   "cell_type": "code",
   "execution_count": 28,
   "id": "29808470",
   "metadata": {},
   "outputs": [
    {
     "data": {
      "text/plain": [
       "array([[ 1,  4,  9],\n",
       "       [16, 25, 36],\n",
       "       [ 7,  8,  9]])"
      ]
     },
     "execution_count": 28,
     "metadata": {},
     "output_type": "execute_result"
    }
   ],
   "source": [
    "# multiplicación de término a término de matrices => ELEMENT WISE MULTIPLICATION\n",
    "# mult_1 = np.array([1, 2, 3])\n",
    "# ojo, las dimensiones de las matrices deben poder hacer el broadcast\n",
    "mult_1 = np.array([[1, 2, 3],[4, 5, 6], [1, 1, 1]])\n",
    "mult_2 = np.array([[1, 2, 3],[4, 5, 6], [7, 8, 9]])\n",
    "mult_1 * mult_2\n",
    "# The term broadcasting describes how NumPy treats arrays with different shapes during arithmetic operations. \n",
    "# Subject to certain constraints, the smaller array is “broadcast” across the larger array so that they have compatible shapes"
   ]
  },
  {
   "cell_type": "code",
   "execution_count": 29,
   "id": "de2ebd6a",
   "metadata": {},
   "outputs": [
    {
     "data": {
      "text/plain": [
       "array([[1.        , 1.        , 1.1       ],\n",
       "       [4.        , 2.5       , 2.16666667]])"
      ]
     },
     "execution_count": 29,
     "metadata": {},
     "output_type": "execute_result"
    }
   ],
   "source": [
    "a2 / a1"
   ]
  },
  {
   "cell_type": "code",
   "execution_count": 30,
   "id": "f7538536",
   "metadata": {},
   "outputs": [
    {
     "data": {
      "text/plain": [
       "array([[1., 1., 1.],\n",
       "       [4., 2., 2.]])"
      ]
     },
     "execution_count": 30,
     "metadata": {},
     "output_type": "execute_result"
    }
   ],
   "source": [
    "# Floor division removes the decimals (rounds down)\n",
    "a2 // a1"
   ]
  },
  {
   "cell_type": "code",
   "execution_count": 31,
   "id": "41a3259f",
   "metadata": {},
   "outputs": [
    {
     "data": {
      "text/plain": [
       "array([ 1,  8, 27], dtype=int32)"
      ]
     },
     "execution_count": 31,
     "metadata": {},
     "output_type": "execute_result"
    }
   ],
   "source": [
    "# potenciación \n",
    "para_potenciacion = np.array([1, 2, 3])\n",
    "para_potenciacion ** 3"
   ]
  },
  {
   "cell_type": "code",
   "execution_count": 32,
   "id": "e6b098b2",
   "metadata": {},
   "outputs": [
    {
     "data": {
      "text/plain": [
       "array([ 2.71828183,  7.3890561 , 20.08553692])"
      ]
     },
     "execution_count": 32,
     "metadata": {},
     "output_type": "execute_result"
    }
   ],
   "source": [
    "# módulo con %\n",
    "np.exp(a1)"
   ]
  },
  {
   "cell_type": "markdown",
   "id": "bad64f19",
   "metadata": {},
   "source": [
    "## Aggregation"
   ]
  },
  {
   "cell_type": "code",
   "execution_count": 33,
   "id": "18686893",
   "metadata": {},
   "outputs": [],
   "source": [
    "# Aggregation = performing the same operation on a number of things\n",
    "\n",
    "# Use Python's methods (`sum()`) on Python datatypes and \n",
    "# Use NumPy's methods on NumPy arrays (`np.sum()`). "
   ]
  },
  {
   "cell_type": "code",
   "execution_count": 34,
   "id": "88b4cfac",
   "metadata": {},
   "outputs": [],
   "source": [
    "# Creative a massive NumPy array\n",
    "massive_array = np.random.random(100000)"
   ]
  },
  {
   "cell_type": "code",
   "execution_count": 35,
   "id": "fb7f645f",
   "metadata": {},
   "outputs": [
    {
     "name": "stdout",
     "output_type": "stream",
     "text": [
      "tiempo procesamiento de python\n",
      "18.3 ms ± 535 µs per loop (mean ± std. dev. of 7 runs, 100 loops each)\n",
      "tiempo procesamiento de numpy\n",
      "47 µs ± 358 ns per loop (mean ± std. dev. of 7 runs, 10,000 loops each)\n"
     ]
    }
   ],
   "source": [
    "# magicFunctions start with \"%\"\n",
    "\n",
    "# Mirando el desempeño de funciones de python y numpy para un elemento numpy\n",
    "print('tiempo procesamiento de python')\n",
    "%timeit sum(massive_array) # Python's sum()\n",
    "print('tiempo procesamiento de numpy')\n",
    "%timeit np.sum(massive_array) # NumPy's np.sum()"
   ]
  },
  {
   "cell_type": "code",
   "execution_count": 36,
   "id": "2af0815a",
   "metadata": {},
   "outputs": [
    {
     "data": {
      "text/plain": [
       "(2072.711623024829, 2.8284271247461903)"
      ]
     },
     "execution_count": 36,
     "metadata": {},
     "output_type": "execute_result"
    }
   ],
   "source": [
    "# Demo of std and var\n",
    "high_var_array = np.array([1, 100, 200, 300, 4000, 5000])\n",
    "low_var_array = np.array([2, 4, 6, 8, 10])\n",
    "#\n",
    "np.std(high_var_array), np.std(low_var_array)"
   ]
  },
  {
   "cell_type": "markdown",
   "id": "754171ce",
   "metadata": {},
   "source": [
    "## Reshaping and Transposing"
   ]
  },
  {
   "cell_type": "code",
   "execution_count": 37,
   "id": "21018e3b",
   "metadata": {},
   "outputs": [
    {
     "data": {
      "text/plain": [
       "array([[1. , 2. , 3.3],\n",
       "       [4. , 5. , 6.5]])"
      ]
     },
     "execution_count": 37,
     "metadata": {},
     "output_type": "execute_result"
    }
   ],
   "source": [
    "a2"
   ]
  },
  {
   "cell_type": "code",
   "execution_count": 38,
   "id": "1d317856",
   "metadata": {},
   "outputs": [
    {
     "data": {
      "text/plain": [
       "array([[[1. ],\n",
       "        [2. ],\n",
       "        [3.3]],\n",
       "\n",
       "       [[4. ],\n",
       "        [5. ],\n",
       "        [6.5]]])"
      ]
     },
     "execution_count": 38,
     "metadata": {},
     "output_type": "execute_result"
    }
   ],
   "source": [
    "a2_reshape = a2.reshape(2, 3, 1)\n",
    "a2_reshape"
   ]
  },
  {
   "cell_type": "code",
   "execution_count": 39,
   "id": "82e072ce",
   "metadata": {},
   "outputs": [
    {
     "data": {
      "text/plain": [
       "array([[1, 2, 3],\n",
       "       [4, 5, 6]])"
      ]
     },
     "execution_count": 39,
     "metadata": {},
     "output_type": "execute_result"
    }
   ],
   "source": [
    "xxa = np.array([[1,2,3], [4,5,6]])\n",
    "xxa"
   ]
  },
  {
   "cell_type": "code",
   "execution_count": 40,
   "id": "1ff6a458",
   "metadata": {},
   "outputs": [
    {
     "data": {
      "text/plain": [
       "array([[1, 2],\n",
       "       [3, 4],\n",
       "       [5, 6]])"
      ]
     },
     "execution_count": 40,
     "metadata": {},
     "output_type": "execute_result"
    }
   ],
   "source": [
    "np.reshape(xxa, (3,-1))"
   ]
  },
  {
   "cell_type": "code",
   "execution_count": 41,
   "id": "8bd0e9ea",
   "metadata": {},
   "outputs": [
    {
     "data": {
      "text/plain": [
       "array([[1],\n",
       "       [2],\n",
       "       [3],\n",
       "       [4],\n",
       "       [5],\n",
       "       [6]])"
      ]
     },
     "execution_count": 41,
     "metadata": {},
     "output_type": "execute_result"
    }
   ],
   "source": [
    "np.reshape(xxa, (6,-2))"
   ]
  },
  {
   "cell_type": "code",
   "execution_count": 42,
   "id": "58654012",
   "metadata": {},
   "outputs": [
    {
     "data": {
      "text/plain": [
       "array([[1, 2, 3, 4, 5, 6]])"
      ]
     },
     "execution_count": 42,
     "metadata": {},
     "output_type": "execute_result"
    }
   ],
   "source": [
    "# Transpose = switches the axis'\n",
    "np.reshape(xxa, (6,-2)).T"
   ]
  },
  {
   "cell_type": "markdown",
   "id": "e0ca0c73",
   "metadata": {},
   "source": [
    "## Comparison Operators"
   ]
  },
  {
   "cell_type": "code",
   "execution_count": 43,
   "id": "34249fc2",
   "metadata": {},
   "outputs": [
    {
     "data": {
      "text/plain": [
       "array([1, 2, 3])"
      ]
     },
     "execution_count": 43,
     "metadata": {},
     "output_type": "execute_result"
    }
   ],
   "source": [
    "a1"
   ]
  },
  {
   "cell_type": "code",
   "execution_count": 44,
   "id": "e7df90b1",
   "metadata": {},
   "outputs": [
    {
     "data": {
      "text/plain": [
       "array([[1. , 2. , 3.3],\n",
       "       [4. , 5. , 6.5]])"
      ]
     },
     "execution_count": 44,
     "metadata": {},
     "output_type": "execute_result"
    }
   ],
   "source": [
    "a2"
   ]
  },
  {
   "cell_type": "code",
   "execution_count": 45,
   "id": "9487ca7f",
   "metadata": {},
   "outputs": [
    {
     "data": {
      "text/plain": [
       "array([[False, False, False],\n",
       "       [False, False, False]])"
      ]
     },
     "execution_count": 45,
     "metadata": {},
     "output_type": "execute_result"
    }
   ],
   "source": [
    "a1 > a2"
   ]
  },
  {
   "cell_type": "markdown",
   "id": "899e862d",
   "metadata": {},
   "source": [
    "## Sorting"
   ]
  },
  {
   "cell_type": "code",
   "execution_count": 46,
   "id": "ad60ab4e",
   "metadata": {},
   "outputs": [
    {
     "data": {
      "text/plain": [
       "array([[0, 1, 5, 5, 0],\n",
       "       [6, 1, 9, 4, 6],\n",
       "       [6, 7, 8, 5, 5]])"
      ]
     },
     "execution_count": 46,
     "metadata": {},
     "output_type": "execute_result"
    }
   ],
   "source": [
    "random_array = np.random.randint(10, size=(3, 5))\n",
    "random_array"
   ]
  },
  {
   "cell_type": "code",
   "execution_count": 47,
   "id": "196ba7a5",
   "metadata": {},
   "outputs": [
    {
     "data": {
      "text/plain": [
       "array([[0, 0, 1, 5, 5],\n",
       "       [1, 4, 6, 6, 9],\n",
       "       [5, 5, 6, 7, 8]])"
      ]
     },
     "execution_count": 47,
     "metadata": {},
     "output_type": "execute_result"
    }
   ],
   "source": [
    "# ordenar de menor a mayor por fila\n",
    "np.sort(random_array)"
   ]
  },
  {
   "cell_type": "code",
   "execution_count": 48,
   "id": "97ebfd8b",
   "metadata": {},
   "outputs": [
    {
     "data": {
      "text/plain": [
       "array([[0, 4, 1, 2, 3],\n",
       "       [1, 3, 0, 4, 2],\n",
       "       [3, 4, 0, 1, 2]], dtype=int64)"
      ]
     },
     "execution_count": 48,
     "metadata": {},
     "output_type": "execute_result"
    }
   ],
   "source": [
    "# posiciones o índices de los números ordenados de menor a mayor por fila\n",
    "# ACÁ MIRAR LAS ANOTACIONES EN ONENOTE PARA CLARIFICAR\n",
    "np.argsort(random_array)"
   ]
  },
  {
   "cell_type": "code",
   "execution_count": 49,
   "id": "2dd9fb0b",
   "metadata": {},
   "outputs": [
    {
     "data": {
      "text/plain": [
       "[2, 5, 3]"
      ]
     },
     "execution_count": 49,
     "metadata": {},
     "output_type": "execute_result"
    }
   ],
   "source": [
    "a1 = ([2, 5, 3])\n",
    "a1"
   ]
  },
  {
   "cell_type": "code",
   "execution_count": 50,
   "id": "786fc6f4",
   "metadata": {},
   "outputs": [
    {
     "data": {
      "text/plain": [
       "array([0, 2, 1], dtype=int64)"
      ]
     },
     "execution_count": 50,
     "metadata": {},
     "output_type": "execute_result"
    }
   ],
   "source": [
    "# índices de los elementos de menor a mayor\n",
    "np.argsort(a1)"
   ]
  },
  {
   "cell_type": "code",
   "execution_count": 51,
   "id": "d69c0dba",
   "metadata": {},
   "outputs": [
    {
     "data": {
      "text/plain": [
       "0"
      ]
     },
     "execution_count": 51,
     "metadata": {},
     "output_type": "execute_result"
    }
   ],
   "source": [
    "# índice del valor mínimo\n",
    "np.argmin(a1)"
   ]
  },
  {
   "cell_type": "code",
   "execution_count": 52,
   "id": "989833a2",
   "metadata": {},
   "outputs": [
    {
     "data": {
      "text/plain": [
       "1"
      ]
     },
     "execution_count": 52,
     "metadata": {},
     "output_type": "execute_result"
    }
   ],
   "source": [
    "# índice del valor máximo\n",
    "np.argmax(a1)"
   ]
  },
  {
   "cell_type": "code",
   "execution_count": 53,
   "id": "ccc8101a",
   "metadata": {},
   "outputs": [
    {
     "data": {
      "text/plain": [
       "array([[0, 1, 5, 5, 0],\n",
       "       [6, 1, 9, 4, 6],\n",
       "       [6, 7, 8, 5, 5]])"
      ]
     },
     "execution_count": 53,
     "metadata": {},
     "output_type": "execute_result"
    }
   ],
   "source": [
    "random_array"
   ]
  },
  {
   "cell_type": "code",
   "execution_count": 54,
   "id": "b421e215",
   "metadata": {},
   "outputs": [
    {
     "data": {
      "text/plain": [
       "array([1, 2, 1, 0, 1], dtype=int64)"
      ]
     },
     "execution_count": 54,
     "metadata": {},
     "output_type": "execute_result"
    }
   ],
   "source": [
    "# índices del valor máximo de cada columna\n",
    "np.argmax(random_array, axis=0)"
   ]
  },
  {
   "cell_type": "code",
   "execution_count": 55,
   "id": "a79d4700",
   "metadata": {},
   "outputs": [
    {
     "data": {
      "text/plain": [
       "array([2, 2, 2], dtype=int64)"
      ]
     },
     "execution_count": 55,
     "metadata": {},
     "output_type": "execute_result"
    }
   ],
   "source": [
    "# índices del valor máximo de cada fila\n",
    "np.argmax(random_array, axis=1)"
   ]
  },
  {
   "cell_type": "markdown",
   "id": "1ae8e2c4",
   "metadata": {},
   "source": [
    "## Practical Example"
   ]
  },
  {
   "cell_type": "code",
   "execution_count": 56,
   "id": "b4930ed4",
   "metadata": {},
   "outputs": [],
   "source": [
    "# Turn an image into a NumPy array\n",
    "from matplotlib.image import imread\n",
    "\n",
    "fotoDaniel = imread(\"../fotos/daniel.png\")\n"
   ]
  },
  {
   "cell_type": "code",
   "execution_count": 57,
   "id": "262c0d50",
   "metadata": {},
   "outputs": [],
   "source": [
    "# PARA MOSTRAR LA FOTO ACÁ EN UN NOTEBOOK:\n",
    "# <img src=\"../Fotos/daniel.png\"/>"
   ]
  },
  {
   "cell_type": "code",
   "execution_count": 62,
   "id": "926931e7",
   "metadata": {},
   "outputs": [
    {
     "data": {
      "text/html": [
       "<img src=\"../fotos/daniel.png\"/>\n"
      ],
      "text/plain": [
       "<IPython.core.display.HTML object>"
      ]
     },
     "metadata": {},
     "output_type": "display_data"
    }
   ],
   "source": [
    "%%html\n",
    "<img src=\"../fotos/daniel.png\"/>"
   ]
  },
  {
   "cell_type": "code",
   "execution_count": 63,
   "id": "5b2da83c",
   "metadata": {},
   "outputs": [
    {
     "data": {
      "text/plain": [
       "(63700992, (3456, 4608, 4), 3)"
      ]
     },
     "execution_count": 63,
     "metadata": {},
     "output_type": "execute_result"
    }
   ],
   "source": [
    "fotoDaniel.size, fotoDaniel.shape, fotoDaniel.ndim"
   ]
  },
  {
   "cell_type": "code",
   "execution_count": null,
   "id": "d26e61db",
   "metadata": {},
   "outputs": [],
   "source": []
  }
 ],
 "metadata": {
  "kernelspec": {
   "display_name": "Python 3",
   "language": "python",
   "name": "python3"
  },
  "language_info": {
   "codemirror_mode": {
    "name": "ipython",
    "version": 3
   },
   "file_extension": ".py",
   "mimetype": "text/x-python",
   "name": "python",
   "nbconvert_exporter": "python",
   "pygments_lexer": "ipython3",
   "version": "3.8.13"
  }
 },
 "nbformat": 4,
 "nbformat_minor": 5
}
